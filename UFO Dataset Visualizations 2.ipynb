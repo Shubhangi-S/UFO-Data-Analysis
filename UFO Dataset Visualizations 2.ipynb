{
 "cells": [
  {
   "cell_type": "code",
   "execution_count": 1,
   "metadata": {},
   "outputs": [],
   "source": [
    "import pandas as pd\n",
    "import matplotlib.pyplot as plt\n",
    "import numpy as np\n",
    "import bqplot\n",
    "import ipywidgets\n",
    "from ipywidgets import interact, interactive, fixed, interact_manual"
   ]
  },
  {
   "cell_type": "code",
   "execution_count": 2,
   "metadata": {},
   "outputs": [
    {
     "name": "stderr",
     "output_type": "stream",
     "text": [
      "C:\\Users\\smart\\Anaconda3\\lib\\site-packages\\IPython\\core\\interactiveshell.py:3057: DtypeWarning: Columns (5,9) have mixed types. Specify dtype option on import or set low_memory=False.\n",
      "  interactivity=interactivity, compiler=compiler, result=result)\n"
     ]
    }
   ],
   "source": [
    "df = pd.read_csv(\"C:/Users/smart/ufo-scrubbed-geocoded-time-standardized.csv\", header = None)"
   ]
  },
  {
   "cell_type": "code",
   "execution_count": 3,
   "metadata": {},
   "outputs": [],
   "source": [
    "df.columns = [\"datetime\", \"city\", \"state\", \"country\", \"shape\", \"duration (seconds)\", \"duration (hours/min)\", \"comments\", \"date posted\", \"latitude\", \"longitude\"]"
   ]
  },
  {
   "cell_type": "code",
   "execution_count": 4,
   "metadata": {},
   "outputs": [],
   "source": [
    "df = df[:1000]"
   ]
  },
  {
   "cell_type": "code",
   "execution_count": 15,
   "metadata": {},
   "outputs": [],
   "source": [
    "#Q2\n",
    "cat_drop = ipywidgets.Dropdown(\n",
    "    options=[\"city\", \"state\", \"country\", \"shape\", \"date posted\"],\n",
    "    value='city',\n",
    "    description='Category:',\n",
    ")\n",
    "\n",
    "def on_value_change3(change):\n",
    "            print(change['new'])\n",
    "            \n",
    "cat_drop.observe(on_value_change3, names='value')"
   ]
  },
  {
   "cell_type": "code",
   "execution_count": 12,
   "metadata": {},
   "outputs": [],
   "source": [
    "agg_list = ipywidgets.Dropdown(\n",
    "    options=['sum', 'mean', 'min', 'max', 'count'],\n",
    "    value='sum',\n",
    "    description='Aggregation Function:',\n",
    ")\n",
    "\n",
    "def on_value_change4(change):\n",
    "            print(change['new'])\n",
    "            \n",
    "agg_list.observe(on_value_change4, names='value')"
   ]
  },
  {
   "cell_type": "code",
   "execution_count": 16,
   "metadata": {},
   "outputs": [],
   "source": [
    "bin_val = ipywidgets.IntSlider(min_val=0, max_val=100, step=1)\n",
    "output3 = ipywidgets.Output()\n",
    "\n",
    "def on_value_change5(change):\n",
    "    with output3:\n",
    "        print(change['new'])\n",
    "\n",
    "bin_val.observe(on_value_change5, names='value')"
   ]
  },
  {
   "cell_type": "code",
   "execution_count": 21,
   "metadata": {},
   "outputs": [
    {
     "data": {
      "application/vnd.jupyter.widget-view+json": {
       "model_id": "a392d420aa9b45e382cb3a2871970e2d",
       "version_major": 2,
       "version_minor": 0
      },
      "text/plain": [
       "HBox(children=(Dropdown(description='Category:', index=3, options=('city', 'state', 'country', 'shape', 'date …"
      ]
     },
     "metadata": {},
     "output_type": "display_data"
    }
   ],
   "source": [
    "ipywidgets.HBox([cat_drop, agg_list, bin_val])"
   ]
  },
  {
   "cell_type": "code",
   "execution_count": null,
   "metadata": {},
   "outputs": [],
   "source": [
    "#I have tried to create the two dropdown widgets and one slider widget. \n",
    "#I have also tried to write the code for the bars and the function of aggregation options. \n",
    "#However, my code does not work as I am not able to understand how the interactivity works between the widgets, plot \n",
    "#and the aggregation function."
   ]
  },
  {
   "cell_type": "code",
   "execution_count": 22,
   "metadata": {},
   "outputs": [
    {
     "ename": "SyntaxError",
     "evalue": "invalid syntax (<ipython-input-22-05ffeb97749e>, line 1)",
     "output_type": "error",
     "traceback": [
      "\u001b[1;36m  File \u001b[1;32m\"<ipython-input-22-05ffeb97749e>\"\u001b[1;36m, line \u001b[1;32m1\u001b[0m\n\u001b[1;33m    def ques2(cat_drop.value, agg_list.value):\u001b[0m\n\u001b[1;37m                      ^\u001b[0m\n\u001b[1;31mSyntaxError\u001b[0m\u001b[1;31m:\u001b[0m invalid syntax\n"
     ]
    }
   ],
   "source": [
    "def ques2(cat_drop.value, agg_list.value):\n",
    "    if agg_list.value == \"sum\":\n",
    "        df.groupby([cat_drop.value])[\"duration (hours/minute)\"].sum()\n",
    "    elif agg_list.value == \"mean\":\n",
    "        df.groupby([cat_drop.value])[\"duration (hours/ min)\"].mean()\n",
    "    elif agg_list.value == \"min\":\n",
    "        df.groupby([cat_drop.value])[\"duration (hours/ min)\"].min()\n",
    "    elif agg_list.value == \"max\":\n",
    "        df.groupby([cat_drop.value])[\"duration (hours/ min)\"].max()\n",
    "    elif agg_list.value == \"count\":\n",
    "        df.groupby([cat_drop.value])[\"duration (hours/ min)\"].count()\n",
    "   \n",
    "    x1_sc = bqplot.LinearScale()\n",
    "    y1_sc = bqplot.LinearScale()\n",
    "\n",
    "    x1_ax = bqplot.Axis(scale = x1_sc, label = 'X')\n",
    "    y1_ax = bqplot.Axis(scale = y1_sc, label = 'Y', orientation = 'vertical')\n",
    "\n",
    "    histgram = bqplot.Bars(x = df[''], y = df['duration (hours/min)'],\n",
    "                        scales = {'x': x1_sc, 'y': y1_sc})\n",
    "    fig1 = bqplot.Figure(marks = [histgram], axes = [x1_ax, y1_ax])\n",
    "    display(fig1)"
   ]
  },
  {
   "cell_type": "code",
   "execution_count": null,
   "metadata": {},
   "outputs": [],
   "source": []
  }
 ],
 "metadata": {
  "kernelspec": {
   "display_name": "Python 3",
   "language": "python",
   "name": "python3"
  },
  "language_info": {
   "codemirror_mode": {
    "name": "ipython",
    "version": 3
   },
   "file_extension": ".py",
   "mimetype": "text/x-python",
   "name": "python",
   "nbconvert_exporter": "python",
   "pygments_lexer": "ipython3",
   "version": "3.7.3"
  }
 },
 "nbformat": 4,
 "nbformat_minor": 2
}
